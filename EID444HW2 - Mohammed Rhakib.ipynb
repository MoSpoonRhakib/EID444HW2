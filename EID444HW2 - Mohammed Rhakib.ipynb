{
 "cells": [
  {
   "cell_type": "markdown",
   "metadata": {},
   "source": [
    "# EID 444 Homework 2"
   ]
  },
  {
   "cell_type": "code",
   "execution_count": 4,
   "metadata": {},
   "outputs": [
    {
     "name": "stdout",
     "output_type": "stream",
     "text": [
      "[[[ 0  0]\n",
      "  [-2 -2]]\n",
      "\n",
      " [[ 2  2]\n",
      "  [ 0  0]]]\n"
     ]
    }
   ],
   "source": [
    "import numpy as np\n",
    "import matplotlib.pyplot as plt\n",
    "import matplotlib.animation as animation\n",
    "\n",
    "#[1] https://stackoverflow.com/questions/29241056/how-do-i-use-np-newaxis\n",
    "\n",
    "#R is a matrix of particle positions for N L-J particles\n",
    "\n",
    "\n",
    "\n",
    "def displacements(R):\n",
    "    '''Calculates all displacements between all pairs \n",
    "    of particles'''\n",
    "\n",
    "    #Computes are pairwise displacements: r_i - r_j\n",
    "    #[1] - Learned about np.newaxis to help nduct matrix operations withour consuming much memory\n",
    "    dR = R[:, np.newaxis, :] - R[np.newaxis, :, :]\n",
    "\n",
    "    return dR\n",
    "\n",
    "\n",
    "\n",
    "R = np.array([[1, 2], [3, 4]])  # Two particles\n",
    "\n",
    "dR = displacements(R)\n",
    "\n",
    "print(dR)\n",
    "\n",
    "\n",
    "\n",
    "\n",
    "\n"
   ]
  },
  {
   "cell_type": "markdown",
   "metadata": {},
   "source": [
    "# LJ Forces Function"
   ]
  },
  {
   "cell_type": "code",
   "execution_count": null,
   "metadata": {},
   "outputs": [],
   "source": [
    "def lj_forces(dR, sigma, epsilon):\n",
    "\n",
    "     rij = np.linalg.norm(dR, axis=-1)\n",
    "     r_unit_vec = dR / rij\n",
    "\n",
    "     term_1 = -1 * r_unit_vec * (4 * epsilon / (sigma))\n",
    "     term_2 = -12 * ((sigma / rij)**13)\n",
    "     term_3 = 6 * ((sigma / rij)**7)\n",
    "\n",
    "     FRR = term_1 * (term_2 + term_3)\n",
    "\n",
    "     return FRR\n"
   ]
  },
  {
   "cell_type": "markdown",
   "metadata": {},
   "source": [
    "# Net Forces\n"
   ]
  },
  {
   "cell_type": "code",
   "execution_count": null,
   "metadata": {},
   "outputs": [],
   "source": [
    "def net_forces(FRR):\n",
    "\n",
    "    FR = np.sum(FRR, axis=1)\n",
    "    return FR"
   ]
  },
  {
   "cell_type": "markdown",
   "metadata": {},
   "source": [
    "# Verlet step"
   ]
  },
  {
   "cell_type": "code",
   "execution_count": null,
   "metadata": {},
   "outputs": [],
   "source": [
    "def verlet_step(r_current, r_prev, t, m , FR):\n",
    "    ''' Calculate the verlet step of the pendulum-spring \n",
    "    system'''\n",
    "\n",
    "    #Use precomputed values instead of calling function to save computation time\n",
    "    FRR = lj_forces(dR, sigma, epsilon)\n",
    "    FR = net_forces(FRR)\n",
    "    acceleration = FR / m \n",
    "\n",
    "    r_next = (2*r_current) - r_prev + ((acceleration) * (t**2))\n",
    "\n",
    "    return r_next"
   ]
  },
  {
   "cell_type": "markdown",
   "metadata": {},
   "source": [
    "# Simulation"
   ]
  },
  {
   "cell_type": "code",
   "execution_count": null,
   "metadata": {},
   "outputs": [],
   "source": [
    "def simulation(R_0, v_0, m, t, t_max, sigma, epsilon):\n",
    "\n",
    "    n_steps = int(t_max / t)\n",
    "    trajectory = np.empty((n_steps,2))\n",
    "\n",
    "    r_prev = R_0\n",
    "    r_current = r_prev + (v_0 * t)\n",
    "\n",
    "    trajectory[0] = r_prev\n",
    "    trajectory[1] = r_current\n",
    "\n",
    "    for step in range(2, n_steps):\n",
    "        \n",
    "        r_next = verlet_step(trajectory[step - 1], trajectory[step - 2], t, m, FR)\n",
    "        trajectory[step] = r_next\n",
    "        r_previous = trajectory[step - 1]\n",
    "    \n",
    "    return trajectory"
   ]
  },
  {
   "cell_type": "markdown",
   "metadata": {},
   "source": [
    "# Plot and Animate Trajectory"
   ]
  },
  {
   "cell_type": "code",
   "execution_count": null,
   "metadata": {},
   "outputs": [],
   "source": [
    "def plot_traj(trajectory):\n",
    "    ''' Plots the trajectory on a grid'''\n",
    "\n",
    "    plt.figure()\n",
    "    plt.plot(trajectory[:, 0], trajectory[:, 1], label = 'Trajectory')\n",
    "    plt.xlabel('x')\n",
    "    plt.ylabel('y')\n",
    "    plt.title('Simulated Trajectory')\n",
    "    plt.axis('equal')\n",
    "    plt.legend()\n",
    "    plt.show()\n",
    "\n",
    "\n",
    "def animate_traj(trajectory):\n",
    "    '''Animates trajectory and saves it as a GIF'''\n",
    "\n",
    "    fig,ax = plt.subplots()\n",
    "    ax.set_xlim(np.min(trajectory[:, 0]) - 1, np.max(trajectory[:, 0]) + 1)\n",
    "    ax.set_ylim(np.min(trajectory[:, 1]) - 1, np.max(trajectory[:, 1]) + 1)\n",
    "    ax.set_aspect('equal')\n",
    "\n",
    "    point, = ax.plot([], [], 'bo')  # The mass\n",
    "    spring, = ax.plot([], [], 'r-', lw=2)  # The spring\n",
    "\n",
    "    def update(frame):\n",
    "        point.set_data(trajectory[frame, 0], trajectory[frame, 1])\n",
    "        spring.set_data([0, trajectory[frame, 0]], [0, trajectory[frame, 1]])\n",
    "        return point, spring\n",
    "\n",
    "    ani = animation.FuncAnimation(fig, update, frames=range(0, len(trajectory), 10), blit=True, interval=50)\n",
    "    ani.save(\"trajectory.gif\", writer=\"pillow\")\n",
    "    plt.show()\n",
    "\n",
    "\n",
    "\n",
    "\n",
    "\n",
    "\n",
    "\n",
    "\n",
    "\n"
   ]
  }
 ],
 "metadata": {
  "kernelspec": {
   "display_name": "base",
   "language": "python",
   "name": "python3"
  },
  "language_info": {
   "codemirror_mode": {
    "name": "ipython",
    "version": 3
   },
   "file_extension": ".py",
   "mimetype": "text/x-python",
   "name": "python",
   "nbconvert_exporter": "python",
   "pygments_lexer": "ipython3",
   "version": "3.12.4"
  }
 },
 "nbformat": 4,
 "nbformat_minor": 2
}
